{
  "nbformat": 4,
  "nbformat_minor": 0,
  "metadata": {
    "colab": {
      "provenance": [],
      "include_colab_link": true
    },
    "kernelspec": {
      "name": "python3",
      "display_name": "Python 3"
    },
    "language_info": {
      "name": "python"
    }
  },
  "cells": [
    {
      "cell_type": "markdown",
      "metadata": {
        "id": "view-in-github",
        "colab_type": "text"
      },
      "source": [
        "<a href=\"https://colab.research.google.com/github/Akashg1999/Python-project-1/blob/main/PanchatantraModified2_(1).ipynb\" target=\"_parent\"><img src=\"https://colab.research.google.com/assets/colab-badge.svg\" alt=\"Open In Colab\"/></a>"
      ]
    },
    {
      "cell_type": "code",
      "metadata": {
        "colab": {
          "base_uri": "https://localhost:8080/"
        },
        "id": "KoNGzLDWCXRN",
        "outputId": "65d9b75b-fd3f-469f-e0fd-1ea1e3114525"
      },
      "source": [
        "import re\n",
        "import pandas as pd\n",
        "import bs4\n",
        "import requests\n",
        "import spacy\n",
        "from spacy import displacy\n",
        "nlp = spacy.load('en_core_web_sm')\n",
        "\n",
        "from spacy.matcher import Matcher\n",
        "from spacy.tokens import Span\n",
        "\n",
        "import networkx as nx\n",
        "\n",
        "import matplotlib.pyplot as plt\n",
        "from tqdm import tqdm\n",
        "\n",
        "pd.set_option('display.max_colwidth', 200)\n",
        "%matplotlib inline\n",
        "import  spacy\n",
        "from spacy.matcher import  Matcher\n",
        "nlp = spacy.load(\"en\")\n",
        "matcher = Matcher(nlp.vocab)\n",
        "pattern = [{\"DEP\": \"nsubj\"},{\"DEP\": \"aux\"},{\"DEP\": \"ROOT\"}]\n",
        "matcher.add(\"NsubjAuxRoot \", None, pattern)\n",
        "doc = nlp(u\"We can overtake them.\")\n",
        "matches = matcher(doc)\n",
        "#for tok in doc:\n",
        "   #print(tok.text, \"-->\",tok.dep_,\"-->\", tok.pos_)\n",
        "# print(matches)\n",
        "for match_id, start , end in matches:\n",
        "  span = doc[start :end]\n",
        "  print (\"Span: \", span.text )\n",
        "  print (\"The positions in the doc are: \", start , \"-\", end)"
      ],
      "execution_count": null,
      "outputs": [
        {
          "output_type": "stream",
          "text": [
            "Span:  We can overtake\n",
            "The positions in the doc are:  0 - 3\n"
          ],
          "name": "stdout"
        }
      ]
    },
    {
      "cell_type": "code",
      "metadata": {
        "colab": {
          "base_uri": "https://localhost:8080/"
        },
        "id": "d59fF_BlCcEg",
        "outputId": "5606696d-ca1b-4129-e9f1-ff6d4710a2f7"
      },
      "source": [
        "import  spacy\n",
        "from spacy.matcher import  Matcher\n",
        "nlp = spacy.load(\"en\")\n",
        "matcher = Matcher(nlp.vocab)\n",
        "doc = nlp(\"There lived three friends in a jungle\")\n",
        "for tok in doc:\n",
        "  print(tok.text, \"-->\",tok.dep_,\"-->\", tok.pos_,\"-->\", tok.head)"
      ],
      "execution_count": null,
      "outputs": [
        {
          "output_type": "stream",
          "text": [
            "There --> expl --> PRON --> lived\n",
            "lived --> ROOT --> VERB --> lived\n",
            "three --> nummod --> NUM --> friends\n",
            "friends --> dobj --> NOUN --> lived\n",
            "in --> prep --> ADP --> lived\n",
            "a --> det --> DET --> jungle\n",
            "jungle --> pobj --> NOUN --> in\n"
          ],
          "name": "stdout"
        }
      ]
    },
    {
      "cell_type": "code",
      "metadata": {
        "colab": {
          "base_uri": "https://localhost:8080/"
        },
        "id": "zkMJh5vvC2CY",
        "outputId": "31f5dc2c-f8d6-47a6-dd40-9d8a630ffa4a"
      },
      "source": [
        "import  spacy\n",
        "from spacy.matcher import  Matcher\n",
        "nlp = spacy.load(\"en\")\n",
        "doc = nlp(\"There lived three friends in a jungle\")\n",
        "\n",
        "# Extract Subject\n",
        "subject_pattern = [{'DEP':'dobj'}]\n",
        "relation_pattern=[{'DEP':'ROOT'}]\n",
        "object_pattern=[{'DEP':'prep'},{'DEP':'det'},{'DEP':'pobj'}]\n",
        "matcher.add(\"sub_match\", None, subject_pattern)\n",
        "matches = matcher(doc)\n",
        "span = doc[matches[0][1]:matches[0][2]]\n",
        "mysubject1=span.text\n",
        "print(mysubject1)\n",
        "print('\\n')\n",
        "\n",
        "# Extract Object\n",
        "matcher = Matcher(nlp.vocab)\n",
        "matcher.add(\"obj_match\", None, object_pattern)\n",
        "matches = matcher(doc)\n",
        "span = doc[matches[0][1]:matches[0][2]]\n",
        "myobject1=span.text\n",
        "print(myobject1)\n",
        "print('\\n')\n",
        "# Extract Relation\n",
        "matcher = Matcher(nlp.vocab)\n",
        "matcher.add(\"relation\", None, relation_pattern)\n",
        "matches = matcher(doc)\n",
        "span = doc[matches[0][1]:matches[0][2]]\n",
        "myrelation1=span.text\n",
        "print(myrelation1)"
      ],
      "execution_count": null,
      "outputs": [
        {
          "output_type": "stream",
          "text": [
            "friends\n",
            "\n",
            "\n",
            "in a jungle\n",
            "\n",
            "\n",
            "lived\n"
          ],
          "name": "stdout"
        }
      ]
    },
    {
      "cell_type": "code",
      "metadata": {
        "colab": {
          "base_uri": "https://localhost:8080/"
        },
        "id": "pUCZ-aeREt_2",
        "outputId": "d891c66a-f10f-4896-bff0-4c4c10864dc0"
      },
      "source": [
        "import  spacy\n",
        "from spacy.matcher import  Matcher\n",
        "nlp = spacy.load(\"en\")\n",
        "matcher = Matcher(nlp.vocab)\n",
        "doc = nlp(\"They used to share their meals together\")\n",
        "for tok in doc:\n",
        "  print(tok.text, \"-->\",tok.dep_,\"-->\", tok.pos_,\"-->\", tok.head)"
      ],
      "execution_count": null,
      "outputs": [
        {
          "output_type": "stream",
          "text": [
            "They --> nsubj --> PRON --> used\n",
            "used --> ROOT --> VERB --> used\n",
            "to --> aux --> PART --> share\n",
            "share --> xcomp --> VERB --> used\n",
            "their --> poss --> DET --> meals\n",
            "meals --> dobj --> NOUN --> share\n",
            "together --> advmod --> ADV --> share\n"
          ],
          "name": "stdout"
        }
      ]
    },
    {
      "cell_type": "code",
      "metadata": {
        "colab": {
          "base_uri": "https://localhost:8080/"
        },
        "id": "ZgrSYr9BDULA",
        "outputId": "115a2f89-bc0b-4f27-f488-d904d94c5616"
      },
      "source": [
        "import  spacy\n",
        "from spacy.matcher import  Matcher\n",
        "nlp = spacy.load(\"en\")\n",
        "doc = nlp(\"They used to share their meals together\")\n",
        "\n",
        "# Extract Subject\n",
        "subject_pattern = [{'DEP':'nsubj'}]\n",
        "relation_pattern=[{'DEP':'ROOT'}]\n",
        "object_pattern=[{'DEP':'dobj'}]\n",
        "matcher.add(\"sub_match\", None, subject_pattern)\n",
        "matches = matcher(doc)\n",
        "span = doc[matches[0][1]:matches[0][2]]\n",
        "mysubject2=span.text\n",
        "print(mysubject2)\n",
        "print('\\n')\n",
        "\n",
        "# Extract Object\n",
        "matcher = Matcher(nlp.vocab)\n",
        "matcher.add(\"obj_match\", None, object_pattern)\n",
        "matches = matcher(doc)\n",
        "span = doc[matches[0][1]:matches[0][2]]\n",
        "myobject2=span.text\n",
        "print(myobject2)\n",
        "print('\\n')\n",
        "# Extract Relation\n",
        "matcher = Matcher(nlp.vocab)\n",
        "matcher.add(\"relation\", None, relation_pattern)\n",
        "matches = matcher(doc)\n",
        "span = doc[matches[0][1]:matches[0][2]]\n",
        "myrelation2=span.text\n",
        "print(myrelation2)"
      ],
      "execution_count": null,
      "outputs": [
        {
          "output_type": "stream",
          "text": [
            "They\n",
            "\n",
            "\n",
            "meals\n",
            "\n",
            "\n",
            "used\n"
          ],
          "name": "stdout"
        }
      ]
    },
    {
      "cell_type": "code",
      "metadata": {
        "colab": {
          "base_uri": "https://localhost:8080/"
        },
        "id": "6Ozq2IiSFh41",
        "outputId": "4c04af32-ad8d-40ba-a9f8-55d94b57fddd"
      },
      "source": [
        "import  spacy\n",
        "from spacy.matcher import  Matcher\n",
        "nlp = spacy.load(\"en\")\n",
        "matcher = Matcher(nlp.vocab)\n",
        "doc = nlp(\"I want to join your company\")\n",
        "for tok in doc:\n",
        "  print(tok.text, \"-->\",tok.dep_,\"-->\", tok.pos_,\"-->\", tok.head)"
      ],
      "execution_count": null,
      "outputs": [
        {
          "output_type": "stream",
          "text": [
            "I --> nsubj --> PRON --> want\n",
            "want --> ROOT --> VERB --> want\n",
            "to --> aux --> PART --> join\n",
            "join --> xcomp --> VERB --> want\n",
            "your --> poss --> DET --> company\n",
            "company --> dobj --> NOUN --> join\n"
          ],
          "name": "stdout"
        }
      ]
    },
    {
      "cell_type": "code",
      "metadata": {
        "colab": {
          "base_uri": "https://localhost:8080/"
        },
        "id": "ftdZnrBgF96g",
        "outputId": "63632e04-b748-4de4-9652-6a3a3c44d5a9"
      },
      "source": [
        "import  spacy\n",
        "from spacy.matcher import  Matcher\n",
        "nlp = spacy.load(\"en\")\n",
        "doc = nlp(\"I want to join your company\")\n",
        "\n",
        "# Extract Subject\n",
        "subject_pattern = [{'DEP':'nsubj'}]\n",
        "relation_pattern=[{'DEP':'ROOT'}]\n",
        "object_pattern=[{'DEP':'dobj'}]\n",
        "matcher.add(\"sub_match\", None, subject_pattern)\n",
        "matches = matcher(doc)\n",
        "span = doc[matches[0][1]:matches[0][2]]\n",
        "mysubject3=span.text\n",
        "print(mysubject3)\n",
        "print('\\n')\n",
        "\n",
        "# Extract Object\n",
        "matcher = Matcher(nlp.vocab)\n",
        "matcher.add(\"obj_match\", None, object_pattern)\n",
        "matches = matcher(doc)\n",
        "span = doc[matches[0][1]:matches[0][2]]\n",
        "myobject3=span.text\n",
        "print(myobject3)\n",
        "print('\\n')\n",
        "# Extract Relation\n",
        "matcher = Matcher(nlp.vocab)\n",
        "matcher.add(\"relation\", None, relation_pattern)\n",
        "matches = matcher(doc)\n",
        "span = doc[matches[0][1]:matches[0][2]]\n",
        "myrelation3=span.text\n",
        "print(myrelation3)"
      ],
      "execution_count": null,
      "outputs": [
        {
          "output_type": "stream",
          "text": [
            "I\n",
            "\n",
            "\n",
            "company\n",
            "\n",
            "\n",
            "want\n"
          ],
          "name": "stdout"
        }
      ]
    },
    {
      "cell_type": "code",
      "metadata": {
        "colab": {
          "base_uri": "https://localhost:8080/"
        },
        "id": "ANERlF6wGV2n",
        "outputId": "45a977c6-7b94-4c29-c71f-80af7d8c9bea"
      },
      "source": [
        "import  spacy\n",
        "from spacy.matcher import  Matcher\n",
        "nlp = spacy.load(\"en\")\n",
        "matcher = Matcher(nlp.vocab)\n",
        "doc = nlp(\"You are most welcome\")\n",
        "for tok in doc:\n",
        "  print(tok.text, \"-->\",tok.dep_,\"-->\", tok.pos_,\"-->\", tok.head)"
      ],
      "execution_count": null,
      "outputs": [
        {
          "output_type": "stream",
          "text": [
            "You --> nsubj --> PRON --> are\n",
            "are --> ROOT --> AUX --> are\n",
            "most --> advmod --> ADV --> welcome\n",
            "welcome --> acomp --> ADJ --> are\n"
          ],
          "name": "stdout"
        }
      ]
    },
    {
      "cell_type": "code",
      "metadata": {
        "colab": {
          "base_uri": "https://localhost:8080/"
        },
        "id": "qgCY_0ffGWfH",
        "outputId": "d32c3d4e-1b5f-43fe-e51e-add199f43948"
      },
      "source": [
        "import  spacy\n",
        "from spacy.matcher import  Matcher\n",
        "nlp = spacy.load(\"en\")\n",
        "doc = nlp(\"You are most welcome\")\n",
        "\n",
        "# Extract Subject\n",
        "subject_pattern = [{'DEP':'nsubj'}]\n",
        "relation_pattern=[{'DEP':'ROOT'}]\n",
        "object_pattern=[{'DEP':'acomp'}]\n",
        "matcher.add(\"sub_match\", None, subject_pattern)\n",
        "matches = matcher(doc)\n",
        "span = doc[matches[0][1]:matches[0][2]]\n",
        "mysubject4=span.text\n",
        "print(mysubject4)\n",
        "print('\\n')\n",
        "\n",
        "# Extract Object\n",
        "matcher = Matcher(nlp.vocab)\n",
        "matcher.add(\"obj_match\", None, object_pattern)\n",
        "matches = matcher(doc)\n",
        "span = doc[matches[0][1]:matches[0][2]]\n",
        "myobject4=span.text\n",
        "print(myobject4)\n",
        "print('\\n')\n",
        "# Extract Relation\n",
        "matcher = Matcher(nlp.vocab)\n",
        "matcher.add(\"relation\", None, relation_pattern)\n",
        "matches = matcher(doc)\n",
        "span = doc[matches[0][1]:matches[0][2]]\n",
        "myrelation4=span.text\n",
        "print(myrelation4)"
      ],
      "execution_count": null,
      "outputs": [
        {
          "output_type": "stream",
          "text": [
            "You\n",
            "\n",
            "\n",
            "welcome\n",
            "\n",
            "\n",
            "are\n"
          ],
          "name": "stdout"
        }
      ]
    },
    {
      "cell_type": "code",
      "metadata": {
        "colab": {
          "base_uri": "https://localhost:8080/"
        },
        "id": "DODLeRm7GoFF",
        "outputId": "6536748a-cc1a-42dc-b4a0-3de3fdba771a"
      },
      "source": [
        "import  spacy\n",
        "from spacy.matcher import  Matcher\n",
        "nlp = spacy.load(\"en\")\n",
        "matcher = Matcher(nlp.vocab)\n",
        "doc = nlp(\"The hunters visit this jungle regularly\")\n",
        "for tok in doc:\n",
        "  print(tok.text, \"-->\",tok.dep_,\"-->\", tok.pos_,\"-->\", tok.head)"
      ],
      "execution_count": null,
      "outputs": [
        {
          "output_type": "stream",
          "text": [
            "The --> det --> DET --> hunters\n",
            "hunters --> nsubj --> NOUN --> visit\n",
            "visit --> ROOT --> VERB --> visit\n",
            "this --> det --> DET --> jungle\n",
            "jungle --> dobj --> NOUN --> visit\n",
            "regularly --> advmod --> ADV --> visit\n"
          ],
          "name": "stdout"
        }
      ]
    },
    {
      "cell_type": "code",
      "metadata": {
        "colab": {
          "base_uri": "https://localhost:8080/"
        },
        "id": "e4zDmv-9Hnqs",
        "outputId": "4ecd1fb4-dcab-4eb6-eb49-d8d4ca20015b"
      },
      "source": [
        "import  spacy\n",
        "from spacy.matcher import  Matcher\n",
        "nlp = spacy.load(\"en\")\n",
        "doc = nlp(\"The hunters visit this jungle regularly\")\n",
        "\n",
        "# Extract Subject\n",
        "subject_pattern = [{'DEP':'det'},{'DEP':'nsubj'}]\n",
        "relation_pattern=[{'DEP':'ROOT'}]\n",
        "object_pattern=[{'DEP':'det'},{'DEP':'dobj'}]\n",
        "matcher.add(\"sub_match\", None, subject_pattern)\n",
        "matches = matcher(doc)\n",
        "span = doc[matches[0][1]:matches[0][2]]\n",
        "mysubject5=span.text\n",
        "print(mysubject5)\n",
        "print('\\n')\n",
        "\n",
        "# Extract Object\n",
        "matcher = Matcher(nlp.vocab)\n",
        "matcher.add(\"obj_match\", None, object_pattern)\n",
        "matches = matcher(doc)\n",
        "span = doc[matches[0][1]:matches[0][2]]\n",
        "myobject5=span.text\n",
        "print(myobject5)\n",
        "print('\\n')\n",
        "# Extract Relation\n",
        "matcher = Matcher(nlp.vocab)\n",
        "matcher.add(\"relation\", None, relation_pattern)\n",
        "matches = matcher(doc)\n",
        "span = doc[matches[0][1]:matches[0][2]]\n",
        "myrelation5=span.text\n",
        "print(myrelation5)"
      ],
      "execution_count": null,
      "outputs": [
        {
          "output_type": "stream",
          "text": [
            "The hunters\n",
            "\n",
            "\n",
            "this jungle\n",
            "\n",
            "\n",
            "visit\n"
          ],
          "name": "stdout"
        }
      ]
    },
    {
      "cell_type": "code",
      "metadata": {
        "colab": {
          "base_uri": "https://localhost:8080/"
        },
        "id": "S1gc20pmH5Fh",
        "outputId": "f1ef5489-ada1-4b8d-c04f-5900fe8110bf"
      },
      "source": [
        "import  spacy\n",
        "from spacy.matcher import  Matcher\n",
        "nlp = spacy.load(\"en\")\n",
        "matcher = Matcher(nlp.vocab)\n",
        "doc = nlp(\"I want to join your group\")\n",
        "for tok in doc:\n",
        "  print(tok.text, \"-->\",tok.dep_,\"-->\", tok.pos_,\"-->\", tok.head)"
      ],
      "execution_count": null,
      "outputs": [
        {
          "output_type": "stream",
          "text": [
            "I --> nsubj --> PRON --> want\n",
            "want --> ROOT --> VERB --> want\n",
            "to --> aux --> PART --> join\n",
            "join --> xcomp --> VERB --> want\n",
            "your --> poss --> DET --> group\n",
            "group --> dobj --> NOUN --> join\n"
          ],
          "name": "stdout"
        }
      ]
    },
    {
      "cell_type": "code",
      "metadata": {
        "colab": {
          "base_uri": "https://localhost:8080/"
        },
        "id": "ZeSffsQ_IMd9",
        "outputId": "a03735e9-b95a-4975-c106-9fd693f5011b"
      },
      "source": [
        "import  spacy\n",
        "from spacy.matcher import  Matcher\n",
        "nlp = spacy.load(\"en\")\n",
        "doc = nlp(\"I want to join your group\")\n",
        "\n",
        "# Extract Subject\n",
        "subject_pattern = [{'DEP':'nsubj'}]\n",
        "relation_pattern=[{'DEP':'ROOT'}]\n",
        "object_pattern=[{'DEP':'aux'},{'DEP':'xcomp'},{'DEP':'poss'},{'DEP':'dobj'}]\n",
        "matcher.add(\"sub_match\", None, subject_pattern)\n",
        "matches = matcher(doc)\n",
        "span = doc[matches[0][1]:matches[0][2]]\n",
        "mysubject6=span.text\n",
        "print(mysubject6)\n",
        "print('\\n')\n",
        "\n",
        "# Extract Object\n",
        "matcher = Matcher(nlp.vocab)\n",
        "matcher.add(\"obj_match\", None, object_pattern)\n",
        "matches = matcher(doc)\n",
        "span = doc[matches[0][1]:matches[0][2]]\n",
        "myobject6=span.text\n",
        "print(myobject6)\n",
        "print('\\n')\n",
        "# Extract Relation\n",
        "matcher = Matcher(nlp.vocab)\n",
        "matcher.add(\"relation\", None, relation_pattern)\n",
        "matches = matcher(doc)\n",
        "span = doc[matches[0][1]:matches[0][2]]\n",
        "myrelation6=span.text\n",
        "print(myrelation6)"
      ],
      "execution_count": null,
      "outputs": [
        {
          "output_type": "stream",
          "text": [
            "I\n",
            "\n",
            "\n",
            "to join your group\n",
            "\n",
            "\n",
            "want\n"
          ],
          "name": "stdout"
        }
      ]
    },
    {
      "cell_type": "code",
      "metadata": {
        "colab": {
          "base_uri": "https://localhost:8080/"
        },
        "id": "RfDX-8eRI8gz",
        "outputId": "fb54e1e4-e4d2-4901-ee26-2de56816c79b"
      },
      "source": [
        "import  spacy\n",
        "from spacy.matcher import  Matcher\n",
        "nlp = spacy.load(\"en\")\n",
        "matcher = Matcher(nlp.vocab)\n",
        "doc = nlp(\"A hunter appeared on the scene\")\n",
        "for tok in doc:\n",
        "  print(tok.text, \"-->\",tok.dep_,\"-->\", tok.pos_,\"-->\", tok.head)"
      ],
      "execution_count": null,
      "outputs": [
        {
          "output_type": "stream",
          "text": [
            "A --> det --> DET --> hunter\n",
            "hunter --> nsubj --> NOUN --> appeared\n",
            "appeared --> ROOT --> VERB --> appeared\n",
            "on --> prep --> ADP --> appeared\n",
            "the --> det --> DET --> scene\n",
            "scene --> pobj --> NOUN --> on\n"
          ],
          "name": "stdout"
        }
      ]
    },
    {
      "cell_type": "code",
      "metadata": {
        "colab": {
          "base_uri": "https://localhost:8080/"
        },
        "id": "ZKnixyfkI-I-",
        "outputId": "c259de30-ce45-4cc0-88ee-f2460da89799"
      },
      "source": [
        "import  spacy\n",
        "from spacy.matcher import  Matcher\n",
        "nlp = spacy.load(\"en\")\n",
        "doc = nlp(\"A hunter appeared on the scene\")\n",
        "\n",
        "# Extract Subject\n",
        "subject_pattern = [{'DEP':'det'},{'DEP':'nsubj'}]\n",
        "relation_pattern=[{'DEP':'ROOT'}]\n",
        "object_pattern=[{'DEP':'prep'},{'DEP':'det'},{'DEP':'pobj'}]\n",
        "matcher.add(\"sub_match\", None, subject_pattern)\n",
        "matches = matcher(doc)\n",
        "span = doc[matches[0][1]:matches[0][2]]\n",
        "mysubject7=span.text\n",
        "print(mysubject7)\n",
        "print('\\n')\n",
        "\n",
        "# Extract Object\n",
        "matcher = Matcher(nlp.vocab)\n",
        "matcher.add(\"obj_match\", None, object_pattern)\n",
        "matches = matcher(doc)\n",
        "span = doc[matches[0][1]:matches[0][2]]\n",
        "myobject7=span.text\n",
        "print(myobject7)\n",
        "print('\\n')\n",
        "# Extract Relation\n",
        "matcher = Matcher(nlp.vocab)\n",
        "matcher.add(\"relation\", None, relation_pattern)\n",
        "matches = matcher(doc)\n",
        "span = doc[matches[0][1]:matches[0][2]]\n",
        "myrelation7=span.text\n",
        "print(myrelation7)"
      ],
      "execution_count": null,
      "outputs": [
        {
          "output_type": "stream",
          "text": [
            "A hunter\n",
            "\n",
            "\n",
            "on the scene\n",
            "\n",
            "\n",
            "appeared\n"
          ],
          "name": "stdout"
        }
      ]
    },
    {
      "cell_type": "code",
      "metadata": {
        "colab": {
          "base_uri": "https://localhost:8080/"
        },
        "id": "2X1JVrIdJTa4",
        "outputId": "530c8544-6996-4f42-faf1-1afaf00c731f"
      },
      "source": [
        "import  spacy\n",
        "from spacy.matcher import  Matcher\n",
        "nlp = spacy.load(\"en\")\n",
        "matcher = Matcher(nlp.vocab)\n",
        "doc = nlp(\"The crow then flew high up in the sky\")\n",
        "for tok in doc:\n",
        "  print(tok.text, \"-->\",tok.dep_,\"-->\", tok.pos_,\"-->\", tok.head)"
      ],
      "execution_count": null,
      "outputs": [
        {
          "output_type": "stream",
          "text": [
            "The --> det --> DET --> crow\n",
            "crow --> nsubj --> NOUN --> flew\n",
            "then --> advmod --> ADV --> flew\n",
            "flew --> ROOT --> VERB --> flew\n",
            "high --> advmod --> ADV --> up\n",
            "up --> prt --> ADV --> flew\n",
            "in --> prep --> ADP --> flew\n",
            "the --> det --> DET --> sky\n",
            "sky --> pobj --> NOUN --> in\n"
          ],
          "name": "stdout"
        }
      ]
    },
    {
      "cell_type": "code",
      "metadata": {
        "colab": {
          "base_uri": "https://localhost:8080/"
        },
        "id": "U2WpQEK7JZgl",
        "outputId": "25aa03e6-5c44-406b-9a1f-9e636dcb89d3"
      },
      "source": [
        "import  spacy\n",
        "from spacy.matcher import  Matcher\n",
        "nlp = spacy.load(\"en\")\n",
        "doc = nlp(\"The crow then flew high up in the sky\")\n",
        "\n",
        "# Extract Subject\n",
        "subject_pattern = [{'DEP':'det'},{'DEP':'nsubj'}]\n",
        "relation_pattern=[{'DEP':'ROOT'}]\n",
        "object_pattern=[{'DEP':'advmod'},{'DEP':'prt'},{'DEP':'prep'},{'DEP':'det'},{'DEP':'pobj'}]\n",
        "matcher.add(\"sub_match\", None, subject_pattern)\n",
        "matches = matcher(doc)\n",
        "span = doc[matches[0][1]:matches[0][2]]\n",
        "mysubject8=span.text\n",
        "print(mysubject8)\n",
        "print('\\n')\n",
        "\n",
        "# Extract Object\n",
        "matcher = Matcher(nlp.vocab)\n",
        "matcher.add(\"obj_match\", None, object_pattern)\n",
        "matches = matcher(doc)\n",
        "span = doc[matches[0][1]:matches[0][2]]\n",
        "myobject8=span.text\n",
        "print(myobject8)\n",
        "print('\\n')\n",
        "# Extract Relation\n",
        "matcher = Matcher(nlp.vocab)\n",
        "matcher.add(\"relation\", None, relation_pattern)\n",
        "matches = matcher(doc)\n",
        "span = doc[matches[0][1]:matches[0][2]]\n",
        "myrelation8=span.text\n",
        "print(myrelation8)"
      ],
      "execution_count": null,
      "outputs": [
        {
          "output_type": "stream",
          "text": [
            "The crow\n",
            "\n",
            "\n",
            "high up in the sky\n",
            "\n",
            "\n",
            "flew\n"
          ],
          "name": "stdout"
        }
      ]
    },
    {
      "cell_type": "code",
      "metadata": {
        "colab": {
          "base_uri": "https://localhost:8080/"
        },
        "id": "HUTK1gozJ95m",
        "outputId": "c7e97ceb-40b5-4655-f059-096edb998e53"
      },
      "source": [
        "import  spacy\n",
        "from spacy.matcher import  Matcher\n",
        "nlp = spacy.load(\"en\")\n",
        "matcher = Matcher(nlp.vocab)\n",
        "doc = nlp(\"The hunter walking along the river bank\")\n",
        "for tok in doc:\n",
        "  print(tok.text, \"-->\",tok.dep_,\"-->\", tok.pos_,\"-->\", tok.head)"
      ],
      "execution_count": null,
      "outputs": [
        {
          "output_type": "stream",
          "text": [
            "The --> det --> DET --> hunter\n",
            "hunter --> ROOT --> NOUN --> hunter\n",
            "walking --> acl --> VERB --> hunter\n",
            "along --> prep --> ADP --> walking\n",
            "the --> det --> DET --> bank\n",
            "river --> compound --> NOUN --> bank\n",
            "bank --> pobj --> NOUN --> along\n"
          ],
          "name": "stdout"
        }
      ]
    },
    {
      "cell_type": "code",
      "metadata": {
        "colab": {
          "base_uri": "https://localhost:8080/"
        },
        "id": "90TkkYELKCsn",
        "outputId": "2894ac4f-be75-477f-ccf0-17b24cac3613"
      },
      "source": [
        "import  spacy\n",
        "from spacy.matcher import  Matcher\n",
        "nlp = spacy.load(\"en\")\n",
        "doc = nlp(\"The hunter walking along the river bank\")\n",
        "\n",
        "# Extract Subject\n",
        "subject_pattern = [{'DEP':'det'},{'DEP':'ROOT'}]\n",
        "relation_pattern=[{'DEP':'acl'}]\n",
        "object_pattern=[{'DEP':'det'},{'DEP':'compound'},{'DEP':'pobj'}]\n",
        "matcher.add(\"sub_match\", None, subject_pattern)\n",
        "matches = matcher(doc)\n",
        "span = doc[matches[0][1]:matches[0][2]]\n",
        "mysubject9=span.text\n",
        "print(mysubject9)\n",
        "print('\\n')\n",
        "\n",
        "# Extract Object\n",
        "matcher = Matcher(nlp.vocab)\n",
        "matcher.add(\"obj_match\", None, object_pattern)\n",
        "matches = matcher(doc)\n",
        "span = doc[matches[0][1]:matches[0][2]]\n",
        "myobject9=span.text\n",
        "print(myobject9)\n",
        "print('\\n')\n",
        "# Extract Relation\n",
        "matcher = Matcher(nlp.vocab)\n",
        "matcher.add(\"relation\", None, relation_pattern)\n",
        "matches = matcher(doc)\n",
        "span = doc[matches[0][1]:matches[0][2]]\n",
        "myrelation9=span.text\n",
        "print(myrelation9)"
      ],
      "execution_count": null,
      "outputs": [
        {
          "output_type": "stream",
          "text": [
            "The hunter\n",
            "\n",
            "\n",
            "the river bank\n",
            "\n",
            "\n",
            "walking\n"
          ],
          "name": "stdout"
        }
      ]
    },
    {
      "cell_type": "code",
      "metadata": {
        "colab": {
          "base_uri": "https://localhost:8080/"
        },
        "id": "0v8d9rYeKmwg",
        "outputId": "9a9c7267-786e-48b4-821e-5eb5aabc245b"
      },
      "source": [
        "import  spacy\n",
        "from spacy.matcher import  Matcher\n",
        "nlp = spacy.load(\"en\")\n",
        "matcher = Matcher(nlp.vocab)\n",
        "doc = nlp(\"The hunter saw the deer from a distance\")\n",
        "for tok in doc:\n",
        "  print(tok.text, \"-->\",tok.dep_,\"-->\", tok.pos_,\"-->\", tok.head)"
      ],
      "execution_count": null,
      "outputs": [
        {
          "output_type": "stream",
          "text": [
            "The --> det --> DET --> hunter\n",
            "hunter --> nsubj --> NOUN --> saw\n",
            "saw --> ROOT --> VERB --> saw\n",
            "the --> det --> DET --> deer\n",
            "deer --> dobj --> NOUN --> saw\n",
            "from --> prep --> ADP --> saw\n",
            "a --> det --> DET --> distance\n",
            "distance --> pobj --> NOUN --> from\n"
          ],
          "name": "stdout"
        }
      ]
    },
    {
      "cell_type": "code",
      "metadata": {
        "colab": {
          "base_uri": "https://localhost:8080/"
        },
        "id": "ckr9yPbdKwqH",
        "outputId": "eb49b3f4-a23a-4fb7-a678-e7c43908be57"
      },
      "source": [
        "import  spacy\n",
        "from spacy.matcher import  Matcher\n",
        "nlp = spacy.load(\"en\")\n",
        "doc = nlp(\"The hunter saw the deer from a distance\")\n",
        "\n",
        "# Extract Subject\n",
        "subject_pattern = [{'DEP':'det'},{'DEP':'nsubj'}]\n",
        "relation_pattern=[{'DEP':'ROOT'}]\n",
        "object_pattern=[{'DEP':'det'},{'DEP':'dobj'}]\n",
        "matcher.add(\"sub_match\", None, subject_pattern)\n",
        "matches = matcher(doc)\n",
        "span = doc[matches[0][1]:matches[0][2]]\n",
        "mysubject10=span.text\n",
        "print(mysubject10)\n",
        "print('\\n')\n",
        "\n",
        "# Extract Object\n",
        "matcher = Matcher(nlp.vocab)\n",
        "matcher.add(\"obj_match\", None, object_pattern)\n",
        "matches = matcher(doc)\n",
        "span = doc[matches[0][1]:matches[0][2]]\n",
        "myobject10=span.text\n",
        "print(myobject10)\n",
        "print('\\n')\n",
        "# Extract Relation\n",
        "matcher = Matcher(nlp.vocab)\n",
        "matcher.add(\"relation\", None, relation_pattern)\n",
        "matches = matcher(doc)\n",
        "span = doc[matches[0][1]:matches[0][2]]\n",
        "myrelation10=span.text\n",
        "print(myrelation10)"
      ],
      "execution_count": null,
      "outputs": [
        {
          "output_type": "stream",
          "text": [
            "The hunter\n",
            "\n",
            "\n",
            "the deer\n",
            "\n",
            "\n",
            "saw\n"
          ],
          "name": "stdout"
        }
      ]
    },
    {
      "cell_type": "code",
      "metadata": {
        "colab": {
          "base_uri": "https://localhost:8080/"
        },
        "id": "JQqaFHZ7LS35",
        "outputId": "4ebba900-ba3e-4217-e588-6f96e7a523ff"
      },
      "source": [
        "import  spacy\n",
        "from spacy.matcher import  Matcher\n",
        "nlp = spacy.load(\"en\")\n",
        "doc = nlp(\"The hunter saw the deer from a distance\")\n",
        "\n",
        "# Extract Subject\n",
        "subject_pattern = [{'DEP':'det'},{'DEP':'nsubj'}]\n",
        "relation_pattern=[{'DEP':'ROOT'}]\n",
        "object_pattern=[{'DEP':'dobj'},{'DEP':'prep'},{'DEP':'det'},{'DEP':'pobj'}]\n",
        "matcher.add(\"sub_match\", None, subject_pattern)\n",
        "matches = matcher(doc)\n",
        "span = doc[matches[0][1]:matches[0][2]]\n",
        "mysubject11=span.text\n",
        "print(mysubject11)\n",
        "print('\\n')\n",
        "\n",
        "# Extract Object\n",
        "matcher = Matcher(nlp.vocab)\n",
        "matcher.add(\"obj_match\", None, object_pattern)\n",
        "matches = matcher(doc)\n",
        "span = doc[matches[0][1]:matches[0][2]]\n",
        "myobject11=span.text\n",
        "print(myobject11)\n",
        "print('\\n')\n",
        "# Extract Relation\n",
        "matcher = Matcher(nlp.vocab)\n",
        "matcher.add(\"relation\", None, relation_pattern)\n",
        "matches = matcher(doc)\n",
        "span = doc[matches[0][1]:matches[0][2]]\n",
        "myrelation11=span.text\n",
        "print(myrelation11)"
      ],
      "execution_count": null,
      "outputs": [
        {
          "output_type": "stream",
          "text": [
            "The hunter\n",
            "\n",
            "\n",
            "deer from a distance\n",
            "\n",
            "\n",
            "saw\n"
          ],
          "name": "stdout"
        }
      ]
    },
    {
      "cell_type": "code",
      "metadata": {
        "colab": {
          "base_uri": "https://localhost:8080/"
        },
        "id": "ksOuRlB_LPBY",
        "outputId": "6ae00463-a4fa-47fa-becf-fb835d07988c"
      },
      "source": [
        "import  spacy\n",
        "from spacy.matcher import  Matcher\n",
        "nlp = spacy.load(\"en\")\n",
        "matcher = Matcher(nlp.vocab)\n",
        "doc = nlp(\"The crow flew in the sky\")\n",
        "for tok in doc:\n",
        "  print(tok.text, \"-->\",tok.dep_,\"-->\", tok.pos_,\"-->\", tok.head)"
      ],
      "execution_count": null,
      "outputs": [
        {
          "output_type": "stream",
          "text": [
            "The --> det --> DET --> crow\n",
            "crow --> nsubj --> NOUN --> flew\n",
            "flew --> ROOT --> VERB --> flew\n",
            "in --> prep --> ADP --> flew\n",
            "the --> det --> DET --> sky\n",
            "sky --> pobj --> NOUN --> in\n"
          ],
          "name": "stdout"
        }
      ]
    },
    {
      "cell_type": "code",
      "metadata": {
        "colab": {
          "base_uri": "https://localhost:8080/"
        },
        "id": "R10ehDBaMNXn",
        "outputId": "a017d970-5ace-4f12-b2b6-5708d1b6d5b2"
      },
      "source": [
        "import  spacy\n",
        "from spacy.matcher import  Matcher\n",
        "nlp = spacy.load(\"en\")\n",
        "doc = nlp(\"The crow flew in the sky\")\n",
        "\n",
        "# Extract Subject\n",
        "subject_pattern = [{'DEP':'det'},{'DEP':'nsubj'}]\n",
        "relation_pattern=[{'DEP':'ROOT'}]\n",
        "object_pattern=[{'DEP':'prep'},{'DEP':'det'},{'DEP':'pobj'}]\n",
        "matcher.add(\"sub_match\", None, subject_pattern)\n",
        "matches = matcher(doc)\n",
        "span = doc[matches[0][1]:matches[0][2]]\n",
        "mysubject12=span.text\n",
        "print(mysubject12)\n",
        "print('\\n')\n",
        "\n",
        "# Extract Object\n",
        "matcher = Matcher(nlp.vocab)\n",
        "matcher.add(\"obj_match\", None, object_pattern)\n",
        "matches = matcher(doc)\n",
        "span = doc[matches[0][1]:matches[0][2]]\n",
        "myobject12=span.text\n",
        "print(myobject12)\n",
        "print('\\n')\n",
        "# Extract Relation\n",
        "matcher = Matcher(nlp.vocab)\n",
        "matcher.add(\"relation\", None, relation_pattern)\n",
        "matches = matcher(doc)\n",
        "span = doc[matches[0][1]:matches[0][2]]\n",
        "myrelation12=span.text\n",
        "print(myrelation12)"
      ],
      "execution_count": null,
      "outputs": [
        {
          "output_type": "stream",
          "text": [
            "The crow\n",
            "\n",
            "\n",
            "in the sky\n",
            "\n",
            "\n",
            "flew\n"
          ],
          "name": "stdout"
        }
      ]
    },
    {
      "cell_type": "code",
      "metadata": {
        "colab": {
          "base_uri": "https://localhost:8080/"
        },
        "id": "uBDbTZptMW9Y",
        "outputId": "c61f5df8-e30c-4d4a-c0a8-860b01828c72"
      },
      "source": [
        "import  spacy\n",
        "from spacy.matcher import  Matcher\n",
        "nlp = spacy.load(\"en\")\n",
        "matcher = Matcher(nlp.vocab)\n",
        "doc = nlp(\"The mouse ran into a hole\")\n",
        "for tok in doc:\n",
        "  print(tok.text, \"-->\",tok.dep_,\"-->\", tok.pos_,\"-->\", tok.head)"
      ],
      "execution_count": null,
      "outputs": [
        {
          "output_type": "stream",
          "text": [
            "The --> det --> DET --> mouse\n",
            "mouse --> nsubj --> NOUN --> ran\n",
            "ran --> ROOT --> VERB --> ran\n",
            "into --> prep --> ADP --> ran\n",
            "a --> det --> DET --> hole\n",
            "hole --> pobj --> NOUN --> into\n"
          ],
          "name": "stdout"
        }
      ]
    },
    {
      "cell_type": "code",
      "metadata": {
        "colab": {
          "base_uri": "https://localhost:8080/"
        },
        "id": "DFhP193JMc-0",
        "outputId": "2d39bb2c-7247-4b7f-d1bd-7034bb984fd7"
      },
      "source": [
        "import  spacy\n",
        "from spacy.matcher import  Matcher\n",
        "nlp = spacy.load(\"en\")\n",
        "doc = nlp(\"The crow flew in the sky\")\n",
        "\n",
        "# Extract Subject\n",
        "subject_pattern = [{'DEP':'det'},{'DEP':'nsubj'}]\n",
        "relation_pattern=[{'DEP':'ROOT'}]\n",
        "object_pattern=[{'DEP':'prep'},{'DEP':'det'},{'DEP':'pobj'}]\n",
        "matcher.add(\"sub_match\", None, subject_pattern)\n",
        "matches = matcher(doc)\n",
        "span = doc[matches[0][1]:matches[0][2]]\n",
        "mysubject13=span.text\n",
        "print(mysubject13)\n",
        "print('\\n')\n",
        "\n",
        "# Extract Object\n",
        "matcher = Matcher(nlp.vocab)\n",
        "matcher.add(\"obj_match\", None, object_pattern)\n",
        "matches = matcher(doc)\n",
        "span = doc[matches[0][1]:matches[0][2]]\n",
        "myobject13=span.text\n",
        "print(myobject13)\n",
        "print('\\n')\n",
        "# Extract Relation\n",
        "matcher = Matcher(nlp.vocab)\n",
        "matcher.add(\"relation\", None, relation_pattern)\n",
        "matches = matcher(doc)\n",
        "span = doc[matches[0][1]:matches[0][2]]\n",
        "myrelation13=span.text\n",
        "print(myrelation13)"
      ],
      "execution_count": null,
      "outputs": [
        {
          "output_type": "stream",
          "text": [
            "The crow\n",
            "\n",
            "\n",
            "in the sky\n",
            "\n",
            "\n",
            "flew\n"
          ],
          "name": "stdout"
        }
      ]
    },
    {
      "cell_type": "code",
      "metadata": {
        "colab": {
          "base_uri": "https://localhost:8080/"
        },
        "id": "ig61TH0AMi86",
        "outputId": "34fb12f8-664e-4413-d7f6-371e6f4c8812"
      },
      "source": [
        "import  spacy\n",
        "from spacy.matcher import  Matcher\n",
        "nlp = spacy.load(\"en\")\n",
        "matcher = Matcher(nlp.vocab)\n",
        "doc = nlp(\"The deer was caught by the hunter\")\n",
        "for tok in doc:\n",
        "  print(tok.text, \"-->\",tok.dep_,\"-->\", tok.pos_,\"-->\", tok.head)"
      ],
      "execution_count": null,
      "outputs": [
        {
          "output_type": "stream",
          "text": [
            "The --> det --> DET --> deer\n",
            "deer --> nsubjpass --> NOUN --> caught\n",
            "was --> auxpass --> AUX --> caught\n",
            "caught --> ROOT --> VERB --> caught\n",
            "by --> agent --> ADP --> caught\n",
            "the --> det --> DET --> hunter\n",
            "hunter --> pobj --> NOUN --> by\n"
          ],
          "name": "stdout"
        }
      ]
    },
    {
      "cell_type": "code",
      "metadata": {
        "colab": {
          "base_uri": "https://localhost:8080/"
        },
        "id": "3Ixi8C7MMkJy",
        "outputId": "e99c7569-8b09-403c-df2a-cf85e3bc36fb"
      },
      "source": [
        "import  spacy\n",
        "from spacy.matcher import  Matcher\n",
        "nlp = spacy.load(\"en\")\n",
        "doc = nlp(\"The deer was caught by the hunter\")\n",
        "\n",
        "# Extract Subject\n",
        "subject_pattern = [{'DEP':'det'},{'DEP':'nsubjpass'}]\n",
        "relation_pattern=[{'DEP':'ROOT'}]\n",
        "object_pattern=[{'DEP':'agent'},{'DEP':'det'},{'DEP':'pobj'}]\n",
        "matcher.add(\"sub_match\", None, subject_pattern)\n",
        "matches = matcher(doc)\n",
        "span = doc[matches[0][1]:matches[0][2]]\n",
        "mysubject14=span.text\n",
        "print(mysubject14)\n",
        "print('\\n')\n",
        "\n",
        "# Extract Object\n",
        "matcher = Matcher(nlp.vocab)\n",
        "matcher.add(\"obj_match\", None, object_pattern)\n",
        "matches = matcher(doc)\n",
        "span = doc[matches[0][1]:matches[0][2]]\n",
        "myobject14=span.text\n",
        "print(myobject14)\n",
        "print('\\n')\n",
        "# Extract Relation\n",
        "matcher = Matcher(nlp.vocab)\n",
        "matcher.add(\"relation\", None, relation_pattern)\n",
        "matches = matcher(doc)\n",
        "span = doc[matches[0][1]:matches[0][2]]\n",
        "myrelation14=span.text\n",
        "print(myrelation14)"
      ],
      "execution_count": null,
      "outputs": [
        {
          "output_type": "stream",
          "text": [
            "The deer\n",
            "\n",
            "\n",
            "by the hunter\n",
            "\n",
            "\n",
            "caught\n"
          ],
          "name": "stdout"
        }
      ]
    },
    {
      "cell_type": "code",
      "metadata": {
        "colab": {
          "base_uri": "https://localhost:8080/"
        },
        "id": "vO8G5sPPMyYA",
        "outputId": "80257a42-57c1-4aa4-cb57-d2d9d4cf7cfb"
      },
      "source": [
        "import  spacy\n",
        "from spacy.matcher import  Matcher\n",
        "nlp = spacy.load(\"en\")\n",
        "matcher = Matcher(nlp.vocab)\n",
        "doc = nlp(\"The hunter was sad to lose the deer\")\n",
        "for tok in doc:\n",
        "  print(tok.text, \"-->\",tok.dep_,\"-->\", tok.pos_,\"-->\", tok.head)"
      ],
      "execution_count": null,
      "outputs": [
        {
          "output_type": "stream",
          "text": [
            "The --> det --> DET --> hunter\n",
            "hunter --> nsubj --> NOUN --> was\n",
            "was --> ROOT --> AUX --> was\n",
            "sad --> acomp --> ADJ --> was\n",
            "to --> aux --> PART --> lose\n",
            "lose --> xcomp --> VERB --> sad\n",
            "the --> det --> DET --> deer\n",
            "deer --> dobj --> NOUN --> lose\n"
          ],
          "name": "stdout"
        }
      ]
    },
    {
      "cell_type": "code",
      "metadata": {
        "colab": {
          "base_uri": "https://localhost:8080/"
        },
        "id": "4mBQLNNbNnXg",
        "outputId": "125ebce8-afb6-4ad8-e8d9-1329328491fa"
      },
      "source": [
        "import  spacy\n",
        "from spacy.matcher import  Matcher\n",
        "nlp = spacy.load(\"en\")\n",
        "doc = nlp(\"The hunter was sad to lose the deer\")\n",
        "\n",
        "# Extract Subject\n",
        "subject_pattern = [{'DEP':'det'},{'DEP':'nsubj'}]\n",
        "relation_pattern=[{'DEP':'ROOT'}]\n",
        "object_pattern=[{'DEP':'acomp'},{'DEP':'aux'},{'DEP':'xcomp'},{'DEP':'det'},{'DEP':'dobj'}]\n",
        "matcher.add(\"sub_match\", None, subject_pattern)\n",
        "matches = matcher(doc)\n",
        "span = doc[matches[0][1]:matches[0][2]]\n",
        "mysubject15=span.text\n",
        "print(mysubject15)\n",
        "print('\\n')\n",
        "\n",
        "# Extract Object\n",
        "matcher = Matcher(nlp.vocab)\n",
        "matcher.add(\"obj_match\", None, object_pattern)\n",
        "matches = matcher(doc)\n",
        "span = doc[matches[0][1]:matches[0][2]]\n",
        "myobject15=span.text\n",
        "print(myobject15)\n",
        "print('\\n')\n",
        "# Extract Relation\n",
        "matcher = Matcher(nlp.vocab)\n",
        "matcher.add(\"relation\", None, relation_pattern)\n",
        "matches = matcher(doc)\n",
        "span = doc[matches[0][1]:matches[0][2]]\n",
        "myrelation15=span.text\n",
        "print(myrelation15)"
      ],
      "execution_count": null,
      "outputs": [
        {
          "output_type": "stream",
          "text": [
            "The hunter\n",
            "\n",
            "\n",
            "sad to lose the deer\n",
            "\n",
            "\n",
            "was\n"
          ],
          "name": "stdout"
        }
      ]
    },
    {
      "cell_type": "code",
      "metadata": {
        "colab": {
          "base_uri": "https://localhost:8080/"
        },
        "id": "RZvOMWlUO4un",
        "outputId": "c37f8466-0a32-44be-db33-a843f415cc07"
      },
      "source": [
        "import  spacy\n",
        "from spacy.matcher import  Matcher\n",
        "nlp = spacy.load(\"en\")\n",
        "matcher = Matcher(nlp.vocab)\n",
        "doc = nlp(\"The hunter was very happy\")\n",
        "for tok in doc:\n",
        "  print(tok.text, \"-->\",tok.dep_,\"-->\", tok.pos_,\"-->\", tok.head)"
      ],
      "execution_count": null,
      "outputs": [
        {
          "output_type": "stream",
          "text": [
            "The --> det --> DET --> hunter\n",
            "hunter --> nsubj --> NOUN --> was\n",
            "was --> ROOT --> AUX --> was\n",
            "very --> advmod --> ADV --> happy\n",
            "happy --> acomp --> ADJ --> was\n"
          ],
          "name": "stdout"
        }
      ]
    },
    {
      "cell_type": "code",
      "metadata": {
        "colab": {
          "base_uri": "https://localhost:8080/"
        },
        "id": "Vig1SPDROgFZ",
        "outputId": "b53a5e1a-5c7d-4f0c-a998-e0d542455145"
      },
      "source": [
        "import  spacy\n",
        "from spacy.matcher import  Matcher\n",
        "nlp = spacy.load(\"en\")\n",
        "doc = nlp(\"The hunter was very happy\")\n",
        "\n",
        "# Extract Subject\n",
        "subject_pattern = [{'DEP':'det'},{'DEP':'nsubj'}]\n",
        "relation_pattern=[{'DEP':'ROOT'}]\n",
        "object_pattern=[{'DEP':'advmod'},{'DEP':'acomp'},]\n",
        "matcher.add(\"sub_match\", None, subject_pattern)\n",
        "matches = matcher(doc)\n",
        "span = doc[matches[0][1]:matches[0][2]]\n",
        "mysubject16=span.text\n",
        "print(mysubject16)\n",
        "print('\\n')\n",
        "\n",
        "# Extract Object\n",
        "matcher = Matcher(nlp.vocab)\n",
        "matcher.add(\"obj_match\", None, object_pattern)\n",
        "matches = matcher(doc)\n",
        "span = doc[matches[0][1]:matches[0][2]]\n",
        "myobject16=span.text\n",
        "print(myobject16)\n",
        "print('\\n')\n",
        "# Extract Relation\n",
        "matcher = Matcher(nlp.vocab)\n",
        "matcher.add(\"relation\", None, relation_pattern)\n",
        "matches = matcher(doc)\n",
        "span = doc[matches[0][1]:matches[0][2]]\n",
        "myrelation16=span.text\n",
        "print(myrelation16)"
      ],
      "execution_count": null,
      "outputs": [
        {
          "output_type": "stream",
          "text": [
            "The hunter\n",
            "\n",
            "\n",
            "very happy\n",
            "\n",
            "\n",
            "was\n"
          ],
          "name": "stdout"
        }
      ]
    },
    {
      "cell_type": "code",
      "metadata": {
        "colab": {
          "base_uri": "https://localhost:8080/"
        },
        "id": "HbiYMUZNPOFX",
        "outputId": "ace74017-3d11-477a-93bc-6a2602b1c009"
      },
      "source": [
        "import  spacy\n",
        "from spacy.matcher import  Matcher\n",
        "nlp = spacy.load(\"en\")\n",
        "matcher = Matcher(nlp.vocab)\n",
        "doc = nlp(\"The hunter went to fetch the deer\")\n",
        "for tok in doc:\n",
        "  print(tok.text, \"-->\",tok.dep_,\"-->\", tok.pos_,\"-->\", tok.head)"
      ],
      "execution_count": null,
      "outputs": [
        {
          "output_type": "stream",
          "text": [
            "The --> det --> DET --> hunter\n",
            "hunter --> nsubj --> NOUN --> went\n",
            "went --> ROOT --> VERB --> went\n",
            "to --> aux --> PART --> fetch\n",
            "fetch --> advcl --> VERB --> went\n",
            "the --> det --> DET --> deer\n",
            "deer --> dobj --> NOUN --> fetch\n"
          ],
          "name": "stdout"
        }
      ]
    },
    {
      "cell_type": "code",
      "metadata": {
        "colab": {
          "base_uri": "https://localhost:8080/"
        },
        "id": "X4bwM2ToPSW2",
        "outputId": "e02463f9-600d-42eb-8670-7c0c109b8e0e"
      },
      "source": [
        "import  spacy\n",
        "from spacy.matcher import  Matcher\n",
        "nlp = spacy.load(\"en\")\n",
        "doc = nlp(\"The hunter went to fetch the deer\")\n",
        "\n",
        "# Extract Subject\n",
        "subject_pattern = [{'DEP':'det'},{'DEP':'nsubj'}]\n",
        "relation_pattern=[{'DEP':'ROOT'}]\n",
        "object_pattern=[{'DEP':'advcl'},{'DEP':'det'},{'DEP':'dobj'}]\n",
        "matcher.add(\"sub_match\", None, subject_pattern)\n",
        "matches = matcher(doc)\n",
        "span = doc[matches[0][1]:matches[0][2]]\n",
        "mysubject17=span.text\n",
        "print(mysubject17)\n",
        "print('\\n')\n",
        "\n",
        "# Extract Object\n",
        "matcher = Matcher(nlp.vocab)\n",
        "matcher.add(\"obj_match\", None, object_pattern)\n",
        "matches = matcher(doc)\n",
        "span = doc[matches[0][1]:matches[0][2]]\n",
        "myobject17=span.text\n",
        "print(myobject17)\n",
        "print('\\n')\n",
        "# Extract Relation\n",
        "matcher = Matcher(nlp.vocab)\n",
        "matcher.add(\"relation\", None, relation_pattern)\n",
        "matches = matcher(doc)\n",
        "span = doc[matches[0][1]:matches[0][2]]\n",
        "myrelation17=span.text\n",
        "print(myrelation17)"
      ],
      "execution_count": null,
      "outputs": [
        {
          "output_type": "stream",
          "text": [
            "The hunter\n",
            "\n",
            "\n",
            "fetch the deer\n",
            "\n",
            "\n",
            "went\n"
          ],
          "name": "stdout"
        }
      ]
    },
    {
      "cell_type": "code",
      "metadata": {
        "colab": {
          "base_uri": "https://localhost:8080/"
        },
        "id": "2o1WeJq0PvEw",
        "outputId": "87ba94ed-35ed-462e-ec54-735453605082"
      },
      "source": [
        "import  spacy\n",
        "from spacy.matcher import  Matcher\n",
        "nlp = spacy.load(\"en\")\n",
        "matcher = Matcher(nlp.vocab)\n",
        "doc = nlp(\"The hunter was very much awake\")\n",
        "for tok in doc:\n",
        "  print(tok.text, \"-->\",tok.dep_,\"-->\", tok.pos_,\"-->\", tok.head)"
      ],
      "execution_count": null,
      "outputs": [
        {
          "output_type": "stream",
          "text": [
            "The --> det --> DET --> hunter\n",
            "hunter --> nsubj --> NOUN --> was\n",
            "was --> ROOT --> AUX --> was\n",
            "very --> advmod --> ADV --> much\n",
            "much --> advmod --> ADV --> awake\n",
            "awake --> acomp --> ADJ --> was\n"
          ],
          "name": "stdout"
        }
      ]
    },
    {
      "cell_type": "code",
      "metadata": {
        "colab": {
          "base_uri": "https://localhost:8080/"
        },
        "id": "5RbrjSIlQFG9",
        "outputId": "0e55462b-3fd5-4e96-e781-f123ca74083f"
      },
      "source": [
        "import  spacy\n",
        "from spacy.matcher import  Matcher\n",
        "nlp = spacy.load(\"en\")\n",
        "doc = nlp(\"The hunter was very much awake\")\n",
        "\n",
        "# Extract Subject\n",
        "subject_pattern = [{'DEP':'det'},{'DEP':'nsubj'}]\n",
        "relation_pattern=[{'DEP':'ROOT'}]\n",
        "object_pattern=[{'DEP':'advmod'},{'DEP':'advmod'},{'DEP':'acomp'}]\n",
        "matcher.add(\"sub_match\", None, subject_pattern)\n",
        "matches = matcher(doc)\n",
        "span = doc[matches[0][1]:matches[0][2]]\n",
        "mysubject18=span.text\n",
        "print(mysubject18)\n",
        "print('\\n')\n",
        "\n",
        "# Extract Object\n",
        "matcher = Matcher(nlp.vocab)\n",
        "matcher.add(\"obj_match\", None, object_pattern)\n",
        "matches = matcher(doc)\n",
        "span = doc[matches[0][1]:matches[0][2]]\n",
        "myobject18=span.text\n",
        "print(myobject18)\n",
        "print('\\n')\n",
        "# Extract Relation\n",
        "matcher = Matcher(nlp.vocab)\n",
        "matcher.add(\"relation\", None, relation_pattern)\n",
        "matches = matcher(doc)\n",
        "span = doc[matches[0][1]:matches[0][2]]\n",
        "myrelation18=span.text\n",
        "print(myrelation18)"
      ],
      "execution_count": null,
      "outputs": [
        {
          "output_type": "stream",
          "text": [
            "The hunter\n",
            "\n",
            "\n",
            "very much awake\n",
            "\n",
            "\n",
            "was\n"
          ],
          "name": "stdout"
        }
      ]
    },
    {
      "cell_type": "code",
      "metadata": {
        "colab": {
          "base_uri": "https://localhost:8080/"
        },
        "id": "r3tmwAq6Q_uH",
        "outputId": "aaf1558d-9fd0-4c21-d718-8556b22eb6be"
      },
      "source": [
        "import  spacy\n",
        "from spacy.matcher import  Matcher\n",
        "nlp = spacy.load(\"en\")\n",
        "matcher = Matcher(nlp.vocab)\n",
        "doc = nlp(\"The hunter  was compelled\")\n",
        "for tok in doc:\n",
        "  print(tok.text, \"-->\",tok.dep_,\"-->\", tok.pos_,\"-->\", tok.head)"
      ],
      "execution_count": null,
      "outputs": [
        {
          "output_type": "stream",
          "text": [
            "The --> det --> DET --> hunter\n",
            "hunter --> nsubjpass --> NOUN --> compelled\n",
            "  -->  --> SPACE --> hunter\n",
            "was --> auxpass --> AUX --> compelled\n",
            "compelled --> ROOT --> VERB --> compelled\n"
          ],
          "name": "stdout"
        }
      ]
    },
    {
      "cell_type": "code",
      "metadata": {
        "colab": {
          "base_uri": "https://localhost:8080/"
        },
        "id": "n82Hph3iRHtt",
        "outputId": "68d5f582-a062-41a9-b273-94c7f8253c34"
      },
      "source": [
        "import  spacy\n",
        "from spacy.matcher import  Matcher\n",
        "nlp = spacy.load(\"en\")\n",
        "doc = nlp(\"The hunter  was compelled\")\n",
        "\n",
        "# Extract Subject\n",
        "subject_pattern = [{'DEP':'det'},{'DEP':'nsubjpass'}]\n",
        "relation_pattern=[{'DEP':'auxpass'}]\n",
        "object_pattern=[{'DEP':'ROOT'}]\n",
        "matcher.add(\"sub_match\", None, subject_pattern)\n",
        "matches = matcher(doc)\n",
        "span = doc[matches[0][1]:matches[0][2]]\n",
        "mysubject19=span.text\n",
        "print(mysubject19)\n",
        "print('\\n')\n",
        "\n",
        "# Extract Object\n",
        "matcher = Matcher(nlp.vocab)\n",
        "matcher.add(\"obj_match\", None, object_pattern)\n",
        "matches = matcher(doc)\n",
        "span = doc[matches[0][1]:matches[0][2]]\n",
        "myobject19=span.text\n",
        "print(myobject19)\n",
        "print('\\n')\n",
        "# Extract Relation\n",
        "matcher = Matcher(nlp.vocab)\n",
        "matcher.add(\"relation\", None, relation_pattern)\n",
        "matches = matcher(doc)\n",
        "span = doc[matches[0][1]:matches[0][2]]\n",
        "myrelation19=span.text\n",
        "print(myrelation19)"
      ],
      "execution_count": null,
      "outputs": [
        {
          "output_type": "stream",
          "text": [
            "The hunter\n",
            "\n",
            "\n",
            "compelled\n",
            "\n",
            "\n",
            "was\n"
          ],
          "name": "stdout"
        }
      ]
    },
    {
      "cell_type": "code",
      "metadata": {
        "colab": {
          "base_uri": "https://localhost:8080/"
        },
        "id": "YQMACQP_R398",
        "outputId": "72a77e57-a913-4244-e3b3-11ab11bc1fe4"
      },
      "source": [
        "import  spacy\n",
        "from spacy.matcher import  Matcher\n",
        "nlp = spacy.load(\"en\")\n",
        "matcher = Matcher(nlp.vocab)\n",
        "doc = nlp(\"That some miracle had taken place.\")\n",
        "for tok in doc:\n",
        "  print(tok.text, \"-->\",tok.dep_,\"-->\", tok.pos_,\"-->\", tok.head)"
      ],
      "execution_count": null,
      "outputs": [
        {
          "output_type": "stream",
          "text": [
            "That --> mark --> SCONJ --> taken\n",
            "some --> det --> DET --> miracle\n",
            "miracle --> nsubj --> NOUN --> taken\n",
            "had --> aux --> AUX --> taken\n",
            "taken --> ROOT --> VERB --> taken\n",
            "place --> dobj --> NOUN --> taken\n",
            ". --> punct --> PUNCT --> taken\n"
          ],
          "name": "stdout"
        }
      ]
    },
    {
      "cell_type": "code",
      "metadata": {
        "colab": {
          "base_uri": "https://localhost:8080/"
        },
        "id": "lmXRnCVQR4js",
        "outputId": "7a250c18-da9d-4603-fdd0-6ead29a74813"
      },
      "source": [
        "import  spacy\n",
        "from spacy.matcher import  Matcher\n",
        "nlp = spacy.load(\"en\")\n",
        "doc = nlp(\"That some miracle had taken place\")\n",
        "\n",
        "# Extract Subject\n",
        "subject_pattern = [{'DEP':'mark'},{'DEP':'det'},{'DEP':'nsubj'}]\n",
        "relation_pattern=[{'DEP':'ROOT'}]\n",
        "object_pattern=[{'DEP':'dobj'}]\n",
        "matcher.add(\"sub_match\", None, subject_pattern)\n",
        "matches = matcher(doc)\n",
        "span = doc[matches[0][1]:matches[0][2]]\n",
        "mysubject20=span.text\n",
        "print(mysubject20)\n",
        "print('\\n')\n",
        "\n",
        "# Extract Object\n",
        "matcher = Matcher(nlp.vocab)\n",
        "matcher.add(\"obj_match\", None, object_pattern)\n",
        "matches = matcher(doc)\n",
        "span = doc[matches[0][1]:matches[0][2]]\n",
        "myobject20=span.text\n",
        "print(myobject20)\n",
        "print('\\n')\n",
        "# Extract Relation\n",
        "matcher = Matcher(nlp.vocab)\n",
        "matcher.add(\"relation\", None, relation_pattern)\n",
        "matches = matcher(doc)\n",
        "span = doc[matches[0][1]:matches[0][2]]\n",
        "myrelation20=span.text\n",
        "print(myrelation20)"
      ],
      "execution_count": null,
      "outputs": [
        {
          "output_type": "stream",
          "text": [
            "That some miracle\n",
            "\n",
            "\n",
            "place\n",
            "\n",
            "\n",
            "taken\n"
          ],
          "name": "stdout"
        }
      ]
    },
    {
      "cell_type": "code",
      "metadata": {
        "colab": {
          "base_uri": "https://localhost:8080/"
        },
        "id": "cR8btlr7Sb6m",
        "outputId": "b69104f6-88be-4ef5-9ea2-03c53b32fb9e"
      },
      "source": [
        "import  spacy\n",
        "from spacy.matcher import  Matcher\n",
        "nlp = spacy.load(\"en\")\n",
        "matcher = Matcher(nlp.vocab)\n",
        "doc = nlp(\"The four friends once again started living happily.\")\n",
        "for tok in doc:\n",
        "  print(tok.text, \"-->\",tok.dep_,\"-->\", tok.pos_,\"-->\", tok.head)"
      ],
      "execution_count": null,
      "outputs": [
        {
          "output_type": "stream",
          "text": [
            "The --> det --> DET --> friends\n",
            "four --> nummod --> NUM --> friends\n",
            "friends --> nsubj --> NOUN --> started\n",
            "once --> advmod --> ADV --> again\n",
            "again --> advmod --> ADV --> started\n",
            "started --> ROOT --> VERB --> started\n",
            "living --> xcomp --> VERB --> started\n",
            "happily --> advmod --> ADV --> living\n",
            ". --> punct --> PUNCT --> started\n"
          ],
          "name": "stdout"
        }
      ]
    },
    {
      "cell_type": "code",
      "metadata": {
        "colab": {
          "base_uri": "https://localhost:8080/"
        },
        "id": "8bEYkKE8SkaM",
        "outputId": "7969bbda-d630-4731-e1af-76673832036b"
      },
      "source": [
        "import  spacy\n",
        "from spacy.matcher import  Matcher\n",
        "nlp = spacy.load(\"en\")\n",
        "doc = nlp(\"The four friends once again started living happily.\")\n",
        "\n",
        "# Extract Subject\n",
        "subject_pattern = [{'DEP':'det'},{'DEP':'nummod'},{'DEP':'nsubj'}]\n",
        "relation_pattern=[{'DEP':'ROOT'}]\n",
        "object_pattern=[{'DEP':'xcomp'},{'DEP':'advmod'}]\n",
        "matcher.add(\"sub_match\", None, subject_pattern)\n",
        "matches = matcher(doc)\n",
        "span = doc[matches[0][1]:matches[0][2]]\n",
        "mysubject21=span.text\n",
        "print(mysubject21)\n",
        "print('\\n')\n",
        "\n",
        "# Extract Object\n",
        "matcher = Matcher(nlp.vocab)\n",
        "matcher.add(\"obj_match\", None, object_pattern)\n",
        "matches = matcher(doc)\n",
        "span = doc[matches[0][1]:matches[0][2]]\n",
        "myobject21=span.text\n",
        "print(myobject21)\n",
        "print('\\n')\n",
        "# Extract Relation\n",
        "matcher = Matcher(nlp.vocab)\n",
        "matcher.add(\"relation\", None, relation_pattern)\n",
        "matches = matcher(doc)\n",
        "span = doc[matches[0][1]:matches[0][2]]\n",
        "myrelation21=span.text\n",
        "print(myrelation21)"
      ],
      "execution_count": null,
      "outputs": [
        {
          "output_type": "stream",
          "text": [
            "The four friends\n",
            "\n",
            "\n",
            "living happily\n",
            "\n",
            "\n",
            "started\n"
          ],
          "name": "stdout"
        }
      ]
    },
    {
      "cell_type": "code",
      "metadata": {
        "colab": {
          "base_uri": "https://localhost:8080/"
        },
        "id": "mZS0E1PXTVt8",
        "outputId": "6265be0e-fbc3-4eba-a5bb-440bc4bac161"
      },
      "source": [
        "import  spacy\n",
        "from spacy.matcher import  Matcher\n",
        "nlp = spacy.load(\"en\")\n",
        "matcher = Matcher(nlp.vocab)\n",
        "doc = nlp(\"The hunter was very happy\")\n",
        "for tok in doc:\n",
        "  print(tok.text, \"-->\",tok.dep_,\"-->\", tok.pos_,\"-->\", tok.head)"
      ],
      "execution_count": null,
      "outputs": [
        {
          "output_type": "stream",
          "text": [
            "The --> det --> DET --> hunter\n",
            "hunter --> nsubj --> NOUN --> was\n",
            "was --> ROOT --> AUX --> was\n",
            "very --> advmod --> ADV --> happy\n",
            "happy --> acomp --> ADJ --> was\n"
          ],
          "name": "stdout"
        }
      ]
    },
    {
      "cell_type": "code",
      "metadata": {
        "colab": {
          "base_uri": "https://localhost:8080/"
        },
        "id": "BLTfIEqUTjiB",
        "outputId": "26671e2f-08bb-47d2-d149-f8a677a00605"
      },
      "source": [
        "import  spacy\n",
        "from spacy.matcher import  Matcher\n",
        "nlp = spacy.load(\"en\")\n",
        "doc = nlp(\"The hunter was very happy\")\n",
        "\n",
        "# Extract Subject\n",
        "subject_pattern = [{'DEP':'det'},{'DEP':'nsubj'}]\n",
        "relation_pattern=[{'DEP':'ROOT'}]\n",
        "object_pattern=[{'DEP':'advmod'},{'DEP':'acomp'}]\n",
        "matcher.add(\"sub_match\", None, subject_pattern)\n",
        "matches = matcher(doc)\n",
        "span = doc[matches[0][1]:matches[0][2]]\n",
        "mysubject22=span.text\n",
        "print(mysubject22)\n",
        "print('\\n')\n",
        "\n",
        "# Extract Object\n",
        "matcher = Matcher(nlp.vocab)\n",
        "matcher.add(\"obj_match\", None, object_pattern)\n",
        "matches = matcher(doc)\n",
        "span = doc[matches[0][1]:matches[0][2]]\n",
        "myobject22=span.text\n",
        "print(myobject22)\n",
        "print('\\n')\n",
        "# Extract Relation\n",
        "matcher = Matcher(nlp.vocab)\n",
        "matcher.add(\"relation\", None, relation_pattern)\n",
        "matches = matcher(doc)\n",
        "span = doc[matches[0][1]:matches[0][2]]\n",
        "myrelation22=span.text\n",
        "print(myrelation22)"
      ],
      "execution_count": null,
      "outputs": [
        {
          "output_type": "stream",
          "text": [
            "The hunter\n",
            "\n",
            "\n",
            "very happy\n",
            "\n",
            "\n",
            "was\n"
          ],
          "name": "stdout"
        }
      ]
    },
    {
      "cell_type": "code",
      "metadata": {
        "colab": {
          "base_uri": "https://localhost:8080/"
        },
        "id": "1YAt2VD5T_C8",
        "outputId": "ea15b956-3214-49d2-8d23-e3d4e736fa5d"
      },
      "source": [
        "c = mysubject,myobject,myrelation\n",
        "c1 = mysubject1,myobject1,myrelation1\n",
        "c2 = mysubject2,myobject2,myrelation2\n",
        "c3 = mysubject3,myobject3,myrelation3\n",
        "c4 = mysubject4,myobject4,myrelation4\n",
        "c5 = mysubject5,myobject5,myrelation5\n",
        "c6 = mysubject6,myobject6,myrelation6\n",
        "c7 = mysubject7,myobject7,myrelation7\n",
        "c8 = mysubject8,myobject8,myrelation8\n",
        "c9 = mysubject9,myobject9,myrelation9\n",
        "c10 = mysubject10,myobject10,myrelation10\n",
        "c11 = mysubject11,myobject11,myrelation11\n",
        "c12 = mysubject12,myobject12,myrelation12\n",
        "c13 = mysubject13,myobject13,myrelation13\n",
        "c14 = mysubject14,myobject14,myrelation14\n",
        "c15 = mysubject15,myobject15,myrelation15\n",
        "c16 = mysubject16,myobject16,myrelation16\n",
        "c17 = mysubject17,myobject17,myrelation17\n",
        "c18 = mysubject18,myobject18,myrelation18\n",
        "c19 = mysubject19,myobject19,myrelation19\n",
        "c20 = mysubject20,myobject20,myrelation20\n",
        "c21 = mysubject21,myobject21,myrelation21\n",
        "c22 = mysubject22,myobject22,myrelation22\n",
        "\n",
        "\n",
        "c0 = [[mysubject, myobject, myrelation],\n",
        "     [mysubject1, myobject1, myrelation1],\n",
        "     [mysubject2, myobject2,  myrelation2],\n",
        "     [mysubject3, myobject3, myrelation3],\n",
        "     [mysubject4,  myobject4, myrelation4],\n",
        "     [mysubject5, myobject5, myrelation5],\n",
        "     [mysubject6, myobject6, myrelation6],\n",
        "     [mysubject7, myobject7, myrelation7],\n",
        "     [mysubject8, myobject8, myrelation8],\n",
        "     [mysubject9, myobject9, myrelation9],\n",
        "    [mysubject10, myobject10, myrelation10],\n",
        "    [mysubject11, myobject11, myrelation11],\n",
        "    [mysubject12, myobject12, myrelation12],\n",
        "    [mysubject13, myobject13, myrelation13],\n",
        "    [mysubject14, myobject14, myrelation14],\n",
        "    [mysubject15, myobject15, myrelation15],\n",
        "    [mysubject16, myobject16, myrelation16],\n",
        "    [mysubject17, myobject17, myrelation17],\n",
        "    [mysubject18, myobject18, myrelation18],\n",
        "    [mysubject19, myobject19, myrelation19],\n",
        "    [mysubject20, myobject20, myrelation20],\n",
        "    [mysubject21, myobject21, myrelation21],\n",
        "    [mysubject22, myobject22, myrelation22]]\n",
        "\n",
        "print(c0[0])\n",
        "print(c0[1])\n",
        "print(c0[2])\n",
        "print(c0[3])\n",
        "print(c0[4])\n",
        "print(c0[5])\n",
        "print(c0[6])\n",
        "print(c0[7])\n",
        "print(c0[8])\n",
        "print(c0[9])\n",
        "print(c0[10])\n",
        "print(c0[11])\n",
        "print(c0[12])\n",
        "print(c0[13])\n",
        "print(c0[14])\n",
        "print(c0[15])\n",
        "print(c0[16])\n",
        "print(c0[17])\n",
        "print(c0[18])\n",
        "print(c0[19])\n",
        "print(c0[20])\n",
        "print(c0[21])\n",
        "print(c0[22])\n"
      ],
      "execution_count": null,
      "outputs": [
        {
          "output_type": "stream",
          "text": [
            "[['The hunter', 'friends', 'They', 'I', 'You', 'The hunters', 'I', 'A hunter', 'The crow', 'The hunter', 'The hunter', 'The hunter', 'The crow', 'The crow'], ['very happy', 'in a jungle', 'meals', 'company', 'welcome', 'this jungle', 'to join your group', 'on the scene', 'high up in the sky', 'the river bank', 'the deer', 'deer from a distance', 'in the sky', 'in the sky'], ['was', 'lived', 'used', 'want', 'are', 'visit', 'want', 'appeared', 'flew', 'walking', 'saw', 'saw', 'flew', 'flew']]\n",
            "['friends', 'in a jungle', 'lived']\n",
            "['They', 'meals', 'used']\n",
            "['I', 'company', 'want']\n",
            "['You', 'welcome', 'are']\n",
            "['The hunters', 'this jungle', 'visit']\n",
            "['I', 'to join your group', 'want']\n",
            "['A hunter', 'on the scene', 'appeared']\n",
            "['The crow', 'high up in the sky', 'flew']\n",
            "['The hunter', 'the river bank', 'walking']\n",
            "['The hunter', 'the deer', 'saw']\n",
            "['The hunter', 'deer from a distance', 'saw']\n",
            "['The crow', 'in the sky', 'flew']\n",
            "['The crow', 'in the sky', 'flew']\n",
            "['The deer', 'by the hunter', 'caught']\n",
            "['The hunter', 'sad to lose the deer', 'was']\n",
            "['The hunter', 'very happy', 'was']\n",
            "['The hunter', 'fetch the deer', 'went']\n",
            "['The hunter', 'very much awake', 'was']\n",
            "['The hunter', 'compelled', 'was']\n",
            "['That some miracle', 'place', 'taken']\n",
            "['The four friends', 'living happily', 'started']\n",
            "['The hunter', 'very happy', 'was']\n"
          ],
          "name": "stdout"
        }
      ]
    },
    {
      "cell_type": "code",
      "metadata": {
        "id": "exk36kR0W90C"
      },
      "source": [
        "mysubject = [i[0] for i in c0]\n",
        "\n",
        "myobject = [i[1] for i in c0]\n",
        "\n",
        "myrelation = [i[2] for i in c0]\n",
        "\n",
        "kg_df = pd.DataFrame({'mysubject':mysubject, 'myobject':myobject, 'myrelation':myrelation})"
      ],
      "execution_count": null,
      "outputs": []
    },
    {
      "cell_type": "code",
      "metadata": {
        "colab": {
          "base_uri": "https://localhost:8080/",
          "height": 686
        },
        "id": "KbcQ1H_qXBLR",
        "outputId": "6da7d994-26ff-48cc-af49-15417b19a12f"
      },
      "source": [
        "kg_df.head(21)"
      ],
      "execution_count": null,
      "outputs": [
        {
          "output_type": "execute_result",
          "data": {
            "text/html": [
              "<div>\n",
              "<style scoped>\n",
              "    .dataframe tbody tr th:only-of-type {\n",
              "        vertical-align: middle;\n",
              "    }\n",
              "\n",
              "    .dataframe tbody tr th {\n",
              "        vertical-align: top;\n",
              "    }\n",
              "\n",
              "    .dataframe thead th {\n",
              "        text-align: right;\n",
              "    }\n",
              "</style>\n",
              "<table border=\"1\" class=\"dataframe\">\n",
              "  <thead>\n",
              "    <tr style=\"text-align: right;\">\n",
              "      <th></th>\n",
              "      <th>mysubject</th>\n",
              "      <th>myobject</th>\n",
              "      <th>myrelation</th>\n",
              "    </tr>\n",
              "  </thead>\n",
              "  <tbody>\n",
              "    <tr>\n",
              "      <th>0</th>\n",
              "      <td>[The hunter, friends, They, I, You, The hunters, I, A hunter, The crow, The hunter, The hunter, The hunter, The crow, The crow]</td>\n",
              "      <td>[very happy, in a jungle, meals, company, welcome, this jungle, to join your group, on the scene, high up in the sky, the river bank, the deer, deer from a distance, in the sky, in the sky]</td>\n",
              "      <td>[was, lived, used, want, are, visit, want, appeared, flew, walking, saw, saw, flew, flew]</td>\n",
              "    </tr>\n",
              "    <tr>\n",
              "      <th>1</th>\n",
              "      <td>friends</td>\n",
              "      <td>in a jungle</td>\n",
              "      <td>lived</td>\n",
              "    </tr>\n",
              "    <tr>\n",
              "      <th>2</th>\n",
              "      <td>They</td>\n",
              "      <td>meals</td>\n",
              "      <td>used</td>\n",
              "    </tr>\n",
              "    <tr>\n",
              "      <th>3</th>\n",
              "      <td>I</td>\n",
              "      <td>company</td>\n",
              "      <td>want</td>\n",
              "    </tr>\n",
              "    <tr>\n",
              "      <th>4</th>\n",
              "      <td>You</td>\n",
              "      <td>welcome</td>\n",
              "      <td>are</td>\n",
              "    </tr>\n",
              "    <tr>\n",
              "      <th>5</th>\n",
              "      <td>The hunters</td>\n",
              "      <td>this jungle</td>\n",
              "      <td>visit</td>\n",
              "    </tr>\n",
              "    <tr>\n",
              "      <th>6</th>\n",
              "      <td>I</td>\n",
              "      <td>to join your group</td>\n",
              "      <td>want</td>\n",
              "    </tr>\n",
              "    <tr>\n",
              "      <th>7</th>\n",
              "      <td>A hunter</td>\n",
              "      <td>on the scene</td>\n",
              "      <td>appeared</td>\n",
              "    </tr>\n",
              "    <tr>\n",
              "      <th>8</th>\n",
              "      <td>The crow</td>\n",
              "      <td>high up in the sky</td>\n",
              "      <td>flew</td>\n",
              "    </tr>\n",
              "    <tr>\n",
              "      <th>9</th>\n",
              "      <td>The hunter</td>\n",
              "      <td>the river bank</td>\n",
              "      <td>walking</td>\n",
              "    </tr>\n",
              "    <tr>\n",
              "      <th>10</th>\n",
              "      <td>The hunter</td>\n",
              "      <td>the deer</td>\n",
              "      <td>saw</td>\n",
              "    </tr>\n",
              "    <tr>\n",
              "      <th>11</th>\n",
              "      <td>The hunter</td>\n",
              "      <td>deer from a distance</td>\n",
              "      <td>saw</td>\n",
              "    </tr>\n",
              "    <tr>\n",
              "      <th>12</th>\n",
              "      <td>The crow</td>\n",
              "      <td>in the sky</td>\n",
              "      <td>flew</td>\n",
              "    </tr>\n",
              "    <tr>\n",
              "      <th>13</th>\n",
              "      <td>The crow</td>\n",
              "      <td>in the sky</td>\n",
              "      <td>flew</td>\n",
              "    </tr>\n",
              "    <tr>\n",
              "      <th>14</th>\n",
              "      <td>The deer</td>\n",
              "      <td>by the hunter</td>\n",
              "      <td>caught</td>\n",
              "    </tr>\n",
              "    <tr>\n",
              "      <th>15</th>\n",
              "      <td>The hunter</td>\n",
              "      <td>sad to lose the deer</td>\n",
              "      <td>was</td>\n",
              "    </tr>\n",
              "    <tr>\n",
              "      <th>16</th>\n",
              "      <td>The hunter</td>\n",
              "      <td>very happy</td>\n",
              "      <td>was</td>\n",
              "    </tr>\n",
              "    <tr>\n",
              "      <th>17</th>\n",
              "      <td>The hunter</td>\n",
              "      <td>fetch the deer</td>\n",
              "      <td>went</td>\n",
              "    </tr>\n",
              "    <tr>\n",
              "      <th>18</th>\n",
              "      <td>The hunter</td>\n",
              "      <td>very much awake</td>\n",
              "      <td>was</td>\n",
              "    </tr>\n",
              "    <tr>\n",
              "      <th>19</th>\n",
              "      <td>The hunter</td>\n",
              "      <td>compelled</td>\n",
              "      <td>was</td>\n",
              "    </tr>\n",
              "    <tr>\n",
              "      <th>20</th>\n",
              "      <td>That some miracle</td>\n",
              "      <td>place</td>\n",
              "      <td>taken</td>\n",
              "    </tr>\n",
              "  </tbody>\n",
              "</table>\n",
              "</div>"
            ],
            "text/plain": [
              "                                                                                                                          mysubject  ...                                                                                 myrelation\n",
              "0   [The hunter, friends, They, I, You, The hunters, I, A hunter, The crow, The hunter, The hunter, The hunter, The crow, The crow]  ...  [was, lived, used, want, are, visit, want, appeared, flew, walking, saw, saw, flew, flew]\n",
              "1                                                                                                                           friends  ...                                                                                      lived\n",
              "2                                                                                                                              They  ...                                                                                       used\n",
              "3                                                                                                                                 I  ...                                                                                       want\n",
              "4                                                                                                                               You  ...                                                                                        are\n",
              "5                                                                                                                       The hunters  ...                                                                                      visit\n",
              "6                                                                                                                                 I  ...                                                                                       want\n",
              "7                                                                                                                          A hunter  ...                                                                                   appeared\n",
              "8                                                                                                                          The crow  ...                                                                                       flew\n",
              "9                                                                                                                        The hunter  ...                                                                                    walking\n",
              "10                                                                                                                       The hunter  ...                                                                                        saw\n",
              "11                                                                                                                       The hunter  ...                                                                                        saw\n",
              "12                                                                                                                         The crow  ...                                                                                       flew\n",
              "13                                                                                                                         The crow  ...                                                                                       flew\n",
              "14                                                                                                                         The deer  ...                                                                                     caught\n",
              "15                                                                                                                       The hunter  ...                                                                                        was\n",
              "16                                                                                                                       The hunter  ...                                                                                        was\n",
              "17                                                                                                                       The hunter  ...                                                                                       went\n",
              "18                                                                                                                       The hunter  ...                                                                                        was\n",
              "19                                                                                                                       The hunter  ...                                                                                        was\n",
              "20                                                                                                                That some miracle  ...                                                                                      taken\n",
              "\n",
              "[21 rows x 3 columns]"
            ]
          },
          "metadata": {
            "tags": []
          },
          "execution_count": 127
        }
      ]
    },
    {
      "cell_type": "code",
      "metadata": {
        "colab": {
          "base_uri": "https://localhost:8080/",
          "height": 35
        },
        "id": "flWuGD1sXByN",
        "outputId": "7a0cb035-519d-4212-9c4f-bef0fb8a1466"
      },
      "source": [
        "from graphviz import Digraph\n",
        "\n",
        "f = Digraph('finite_state_machine', filename='PanchatantraModified2.csv.gv')\n",
        "f.attr(rankdir='LR', size='8,5')\n",
        "\n",
        "f.attr('node', shape='doublecircle')\n",
        "f.node('friends')\n",
        "f.node('They')\n",
        "f.node('I')\n",
        "f.node('The deer')\n",
        "f.node('The hunter')\n",
        "\n",
        "\n",
        "\n",
        "f.attr('node', shape='circle')\n",
        "f.edge('friends','in a jungle', label='lived')\n",
        "f.edge('They', 'meals', label='used')\n",
        "f.edge('I\t', 'company\t', label='want')\n",
        "f.edge('I', 'to join your group', label='want')\n",
        "f.edge('You\t', 'welcome\t\t', label='are')\n",
        "f.edge('The hunters', 'this jungle', label='appeared')\n",
        "f.edge('The crow\t', 'high up in the sky\t', label='flew')\n",
        "f.edge('The hunter', 'the river bank\t', label='walking')\n",
        "f.edge('The hunter', 'the deer\t', label='saw')\n",
        "f.edge('The hunter\t', 'deer from a distance', label='saw')\n",
        "f.edge('The deer', 'by the hunter\t\t', label='caught')\n",
        "f.edge('The hunter\t', 'sad to lose the deer\t\t', label='was')\n",
        "f.edge('The hunter', 'very happy\t\t', label='was')\n",
        "f.edge('The hunter', 'fetch the deer\t', label='went')\n",
        "f.edge('The hunter', 'very much awake\t\t', label='was')\n",
        "f.edge('The hunter', 'compelled\t', label='was')\n",
        "f.edge('That some miracle', 'place', label='taken')\n",
        "f.edge('A hunter\t', 'on the scene', label='appeared')\n",
        "f.view()"
      ],
      "execution_count": null,
      "outputs": [
        {
          "output_type": "execute_result",
          "data": {
            "application/vnd.google.colaboratory.intrinsic+json": {
              "type": "string"
            },
            "text/plain": [
              "'PanchatantraModified2.csv.gv.pdf'"
            ]
          },
          "metadata": {
            "tags": []
          },
          "execution_count": 1
        }
      ]
    }
  ]
}